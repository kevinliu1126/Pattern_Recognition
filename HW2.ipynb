{
  "cells": [
    {
      "cell_type": "markdown",
      "metadata": {
        "id": "view-in-github",
        "colab_type": "text"
      },
      "source": [
        "<a href=\"https://colab.research.google.com/github/kevinliu1126/Pattern_Recognition/blob/main/HW2.ipynb\" target=\"_parent\"><img src=\"https://colab.research.google.com/assets/colab-badge.svg\" alt=\"Open In Colab\"/></a>"
      ]
    },
    {
      "cell_type": "markdown",
      "id": "fca3e1a4",
      "metadata": {
        "id": "fca3e1a4"
      },
      "source": [
        "## MY WAY"
      ]
    },
    {
      "cell_type": "code",
      "execution_count": null,
      "id": "78c4ede4",
      "metadata": {
        "id": "78c4ede4"
      },
      "outputs": [],
      "source": [
        "import tensorflow as tf\n",
        "from tensorflow.keras.datasets import mnist\n",
        "\n",
        "(train_images,train_labels),(test_images,test_labels) = mnist.load_data()"
      ]
    },
    {
      "cell_type": "code",
      "execution_count": null,
      "id": "94c83bb8",
      "metadata": {
        "colab": {
          "base_uri": "https://localhost:8080/"
        },
        "id": "94c83bb8",
        "outputId": "ed1d2b55-cfc8-47ee-de7e-a7f5314b355c"
      },
      "outputs": [
        {
          "output_type": "execute_result",
          "data": {
            "text/plain": [
              "((60000, 28, 28), (60000,), (10000, 28, 28), (10000,))"
            ]
          },
          "metadata": {},
          "execution_count": 75
        }
      ],
      "source": [
        "train_images.shape, train_labels.shape, test_images.shape, test_labels.shape "
      ]
    },
    {
      "cell_type": "code",
      "execution_count": null,
      "id": "fc135968",
      "metadata": {
        "colab": {
          "base_uri": "https://localhost:8080/"
        },
        "id": "fc135968",
        "outputId": "5030c8a3-4e58-4612-b9b7-d3f0f0478d0e"
      },
      "outputs": [
        {
          "output_type": "stream",
          "name": "stdout",
          "text": [
            "  0  0  0  0  0  0  0  0  0  0  0  0  0  0  0  0  0  0  0  0  0  0  0  0  0  0  0  0\n",
            "  0  0  0  0  0  0  0  0  0  0  0  0  0  0  0  0  0  0  0  0  0  0  0  0  0  0  0  0\n",
            "  0  0  0  0  0  0  0  0  0  0  0  0  0  0  0  0  0  0  0  0  0  0  0  0  0  0  0  0\n",
            "  0  0  0  0  0  0  0  0  0  0  0  0  0  0  0  0  0  0  0  0  0  0  0  0  0  0  0  0\n",
            "  0  0  0  0  0  0  0  0  0  0  0  0 51132214253254253203162 41  0  0  0  0  0  0  0\n",
            "  0  0  0  0  0  0  0  0102142203203253252253252151 70  0  0  0  0  0  0  0  0  0  0\n",
            "  0  0  0  0  0  0  0  0254253244203142102 82  0  0  0  0  0  0  0  0  0  0  0  0  0\n",
            "  0  0  0  0  0  0  0  0172252203  0  0  0  0  0  0  0  0  0  0  0  0  0  0  0  0  0\n",
            "  0  0  0  0  0  0  0  0 21223234 30  0  0  0  0  0  0  0  0  0  0  0  0  0  0  0  0\n",
            "  0  0  0  0  0  0  0  0  0122253 50  0  0  0  0  0  0  0  0  0  0  0  0  0  0  0  0\n",
            "  0  0  0  0  0  0  0  0  0123254 91 51 51 51 10  0  0  0  0  0  0  0  0  0  0  0  0\n",
            "  0  0  0  0  0  0  0  0 21223253252253252253172 82  0  0  0  0  0  0  0  0  0  0  0\n",
            "  0  0  0  0  0  0  0 21214253203162102102203223254253 51 10  0  0  0  0  0  0  0  0\n",
            "  0  0  0  0  0  0  0 61253171  0  0  0  0  0 20112192253212 41  0  0  0  0  0  0  0\n",
            "  0  0  0  0  0  0  0  0  0  0  0  0  0  0  0  0  0  0102203234 51  0  0  0  0  0  0\n",
            "  0  0  0  0  0  0  0  0  0  0  0  0  0  0  0  0  0  0  0 20213232 82  0  0  0  0  0\n",
            "  0  0  0  0  0  0  0  0  0  0  0  0  0  0  0  0  0  0  0  0 62203234112  0  0  0  0\n",
            "  0  0  0  0  0  0  0  0  0  0  0  0  0  0  0  0  0  0  0  0  0 20213252  0  0  0  0\n",
            "  0  0  0  0  0  0  0  0  0  0  0  0  0  0  0  0  0  0  0  0  0  0153253  0  0  0  0\n",
            "  0  0  0  0  0  0  0  0  0  0  0  0  0  0  0  0  0  0  0  0  0 41233212  0  0  0  0\n",
            "  0  0  0  0  0  0  0  0113 92  0  0  0  0  0  0  0  0  0  0 31173244 40  0  0  0  0\n",
            "  0  0  0  0  0  0  0 82253151  0  0  0  0  0  0 21102102183233212 81  0  0  0  0  0\n",
            "  0  0  0  0  0  0  0 82255253234152153193173253254253254213142 20  0  0  0  0  0  0\n",
            "  0  0  0  0  0  0  0  0 71151151232253212192151131 50 50 10  0  0  0  0  0  0  0  0\n",
            "  0  0  0  0  0  0  0  0  0  0  0  0  0  0  0  0  0  0  0  0  0  0  0  0  0  0  0  0\n",
            "  0  0  0  0  0  0  0  0  0  0  0  0  0  0  0  0  0  0  0  0  0  0  0  0  0  0  0  0\n",
            "  0  0  0  0  0  0  0  0  0  0  0  0  0  0  0  0  0  0  0  0  0  0  0  0  0  0  0  0\n",
            "  0  0  0  0  0  0  0  0  0  0  0  0  0  0  0  0  0  0  0  0  0  0  0  0  0  0  0  0\n"
          ]
        }
      ],
      "source": [
        "x= test_images[15]\n",
        "for i in range(28):\n",
        "    for j in range(28):\n",
        "        z= x[i,j]\n",
        "        print(f'{z:3d}', end='')\n",
        "    print()"
      ]
    },
    {
      "cell_type": "code",
      "execution_count": null,
      "id": "03b6beb3",
      "metadata": {
        "colab": {
          "base_uri": "https://localhost:8080/",
          "height": 283
        },
        "id": "03b6beb3",
        "outputId": "830d90b1-ea03-438d-bb13-120b44767019"
      },
      "outputs": [
        {
          "output_type": "execute_result",
          "data": {
            "text/plain": [
              "<matplotlib.image.AxesImage at 0x7f6d9a143190>"
            ]
          },
          "metadata": {},
          "execution_count": 77
        },
        {
          "output_type": "display_data",
          "data": {
            "text/plain": [
              "<Figure size 432x288 with 1 Axes>"
            ],
            "image/png": "[encoded data removed]"
          },
          "metadata": {
            "needs_background": "light"
          }
        }
      ],
      "source": [
        "import matplotlib.pyplot as pl\n",
        "pl.imshow(x)\n",
        "pl.imshow(x)"
      ]
    },
    {
      "cell_type": "code",
      "execution_count": null,
      "id": "1b81cd8d",
      "metadata": {
        "id": "1b81cd8d"
      },
      "outputs": [],
      "source": [
        "from tensorflow.keras import models\n",
        "from tensorflow.keras import layers\n",
        "\n",
        "network = models.Sequential()\n",
        "network.add(layers.Dense(512,activation=\"relu\",input_shape=(28*28,)))\n",
        "network.add(layers.Dense(256,activation=\"relu\",input_shape=(28*28,)))\n",
        "network.add(layers.Dense(10,activation='softmax'))\n"
      ]
    },
    {
      "cell_type": "code",
      "execution_count": null,
      "id": "aafcc975",
      "metadata": {
        "id": "aafcc975"
      },
      "outputs": [],
      "source": [
        "network.compile(\n",
        "    optimizer = 'Nadam', # 指定優化器→控制梯度下降的確切規則\n",
        "    loss = 'categorical_crossentropy', # 指定損失函數\n",
        "    metrics = ['accuracy'] # 指定評量準則\n",
        ")"
      ]
    },
    {
      "cell_type": "code",
      "execution_count": null,
      "id": "bfd7caf4",
      "metadata": {
        "id": "bfd7caf4"
      },
      "outputs": [],
      "source": [
        "train_images = train_images.reshape((60000,28*28))\n",
        "train_images = train_images.astype('float32')/ 255\n",
        "\n",
        "test_images = test_images.reshape((10000,28*28))\n",
        "test_images = test_images.astype('float32')/ 255"
      ]
    },
    {
      "cell_type": "markdown",
      "id": "6fdb43de",
      "metadata": {
        "id": "6fdb43de"
      },
      "source": [
        "# 建模"
      ]
    },
    {
      "cell_type": "code",
      "execution_count": null,
      "id": "ad355ae7",
      "metadata": {
        "id": "ad355ae7"
      },
      "outputs": [],
      "source": [
        "from tensorflow.keras.utils import to_categorical\n",
        "\n",
        "train_labels = to_categorical(train_labels)\n",
        "test_labels = to_categorical(test_labels)"
      ]
    },
    {
      "cell_type": "code",
      "execution_count": null,
      "id": "009462ea",
      "metadata": {
        "scrolled": false,
        "colab": {
          "base_uri": "https://localhost:8080/"
        },
        "id": "009462ea",
        "outputId": "debdba9b-85c0-409e-9364-72d3c975e6a7"
      },
      "outputs": [
        {
          "output_type": "stream",
          "name": "stdout",
          "text": [
            "Epoch 1/16\n",
            "375/375 [==============================] - 2s 5ms/step - loss: 0.2540 - accuracy: 0.9261 - val_loss: 0.1249 - val_accuracy: 0.9612\n",
            "Epoch 2/16\n",
            "375/375 [==============================] - 2s 4ms/step - loss: 0.0874 - accuracy: 0.9738 - val_loss: 0.0916 - val_accuracy: 0.9717\n",
            "Epoch 3/16\n",
            "375/375 [==============================] - 2s 4ms/step - loss: 0.0535 - accuracy: 0.9835 - val_loss: 0.0848 - val_accuracy: 0.9734\n",
            "Epoch 4/16\n",
            "375/375 [==============================] - 2s 4ms/step - loss: 0.0347 - accuracy: 0.9887 - val_loss: 0.0825 - val_accuracy: 0.9765\n",
            "Epoch 5/16\n",
            "375/375 [==============================] - 2s 4ms/step - loss: 0.0274 - accuracy: 0.9912 - val_loss: 0.0745 - val_accuracy: 0.9790\n",
            "Epoch 6/16\n",
            "375/375 [==============================] - 2s 5ms/step - loss: 0.0166 - accuracy: 0.9951 - val_loss: 0.0933 - val_accuracy: 0.9752\n",
            "Epoch 7/16\n",
            "375/375 [==============================] - 2s 4ms/step - loss: 0.0156 - accuracy: 0.9949 - val_loss: 0.0859 - val_accuracy: 0.9787\n",
            "Epoch 8/16\n",
            "375/375 [==============================] - 2s 4ms/step - loss: 0.0158 - accuracy: 0.9946 - val_loss: 0.0921 - val_accuracy: 0.9766\n",
            "Epoch 9/16\n",
            "375/375 [==============================] - 2s 4ms/step - loss: 0.0155 - accuracy: 0.9949 - val_loss: 0.0937 - val_accuracy: 0.9774\n",
            "Epoch 10/16\n",
            "375/375 [==============================] - 2s 4ms/step - loss: 0.0079 - accuracy: 0.9973 - val_loss: 0.0969 - val_accuracy: 0.9789\n",
            "Epoch 11/16\n",
            "375/375 [==============================] - 2s 4ms/step - loss: 0.0086 - accuracy: 0.9973 - val_loss: 0.1014 - val_accuracy: 0.9768\n",
            "Epoch 12/16\n",
            "375/375 [==============================] - 2s 4ms/step - loss: 0.0106 - accuracy: 0.9968 - val_loss: 0.1129 - val_accuracy: 0.9765\n",
            "Epoch 13/16\n",
            "375/375 [==============================] - 2s 4ms/step - loss: 0.0126 - accuracy: 0.9955 - val_loss: 0.1210 - val_accuracy: 0.9745\n",
            "Epoch 14/16\n",
            "375/375 [==============================] - 2s 4ms/step - loss: 0.0073 - accuracy: 0.9978 - val_loss: 0.1000 - val_accuracy: 0.9787\n",
            "Epoch 15/16\n",
            "375/375 [==============================] - 2s 4ms/step - loss: 0.0114 - accuracy: 0.9961 - val_loss: 0.1117 - val_accuracy: 0.9778\n",
            "Epoch 16/16\n",
            "375/375 [==============================] - 2s 4ms/step - loss: 0.0085 - accuracy: 0.9971 - val_loss: 0.1052 - val_accuracy: 0.9803\n"
          ]
        },
        {
          "output_type": "execute_result",
          "data": {
            "text/plain": [
              "<keras.callbacks.History at 0x7f6d9a38d390>"
            ]
          },
          "metadata": {},
          "execution_count": 82
        }
      ],
      "source": [
        "network.fit(train_images,train_labels,epochs=16,batch_size=128,validation_split=0.2)"
      ]
    },
    {
      "cell_type": "code",
      "execution_count": null,
      "id": "37d57437",
      "metadata": {
        "colab": {
          "base_uri": "https://localhost:8080/",
          "height": 696
        },
        "id": "37d57437",
        "outputId": "3ba2f5c2-e893-4091-e5be-9b311482b465"
      },
      "outputs": [
        {
          "output_type": "stream",
          "name": "stdout",
          "text": [
            "Model: \"sequential_7\"\n",
            "_________________________________________________________________\n",
            " Layer (type)                Output Shape              Param #   \n",
            "=================================================================\n",
            " dense_21 (Dense)            (None, 512)               401920    \n",
            "                                                                 \n",
            " dense_22 (Dense)            (None, 256)               131328    \n",
            "                                                                 \n",
            " dense_23 (Dense)            (None, 10)                2570      \n",
            "                                                                 \n",
            "=================================================================\n",
            "Total params: 535,818\n",
            "Trainable params: 535,818\n",
            "Non-trainable params: 0\n",
            "_________________________________________________________________\n"
          ]
        },
        {
          "output_type": "execute_result",
          "data": {
            "image/png": "[encoded data removed]",
            "text/plain": [
              "<IPython.core.display.Image object>"
            ]
          },
          "metadata": {},
          "execution_count": 83
        }
      ],
      "source": [
        "from tensorflow.keras.utils import plot_model\n",
        "network.summary()\n",
        "\n",
        "plot_model(network, \n",
        "    show_shapes= True,\n",
        ")\n"
      ]
    },
    {
      "cell_type": "code",
      "execution_count": null,
      "id": "f23d684a",
      "metadata": {
        "colab": {
          "base_uri": "https://localhost:8080/"
        },
        "id": "f23d684a",
        "outputId": "5e5b4338-1772-457a-9f24-237c7c0c5571"
      },
      "outputs": [
        {
          "output_type": "stream",
          "name": "stdout",
          "text": [
            "313/313 [==============================] - 1s 2ms/step - loss: 0.0932 - accuracy: 0.9816\n",
            "test_acc: 0.9815999865531921\n"
          ]
        }
      ],
      "source": [
        "test_loss , test_acc = network.evaluate(test_images,test_labels)\n",
        "print('test_acc:',test_acc)"
      ]
    }
  ],
  "metadata": {
    "kernelspec": {
      "display_name": "Python 3 (ipykernel)",
      "language": "python",
      "name": "python3"
    },
    "language_info": {
      "codemirror_mode": {
        "name": "ipython",
        "version": 3
      },
      "file_extension": ".py",
      "mimetype": "text/x-python",
      "name": "python",
      "nbconvert_exporter": "python",
      "pygments_lexer": "ipython3",
      "version": "3.8.13"
    },
    "colab": {
      "provenance": [],
      "collapsed_sections": [],
      "include_colab_link": true
    },
    "accelerator": "GPU"
  },
  "nbformat": 4,
  "nbformat_minor": 5
}